{
 "cells": [
  {
   "cell_type": "code",
   "execution_count": 1,
   "metadata": {},
   "outputs": [],
   "source": [
    "import copy\n",
    "import numpy as np"
   ]
  },
  {
   "cell_type": "code",
   "execution_count": 2,
   "metadata": {},
   "outputs": [],
   "source": [
    "%matplotlib inline"
   ]
  },
  {
   "cell_type": "code",
   "execution_count": 3,
   "metadata": {},
   "outputs": [],
   "source": [
    "import matplotlib.gridspec as gridspec\n",
    "\n",
    "import palettable"
   ]
  },
  {
   "cell_type": "code",
   "execution_count": 4,
   "metadata": {},
   "outputs": [],
   "source": [
    "import verdict"
   ]
  },
  {
   "cell_type": "code",
   "execution_count": 5,
   "metadata": {},
   "outputs": [],
   "source": [
    "import stained_glass.idealized as idealized\n",
    "import stained_glass.stats as stats\n",
    "import stained_glass.sample as sample"
   ]
  },
  {
   "cell_type": "markdown",
   "metadata": {},
   "source": [
    "# Parameters"
   ]
  },
  {
   "cell_type": "code",
   "execution_count": 6,
   "metadata": {},
   "outputs": [],
   "source": [
    "# Number of sightlines\n",
    "n = 10000\n",
    "r_clump = 6.\n",
    "sidelength = 600.\n",
    "annuli = np.array([ 20., 100., 200., 300. ])\n",
    "levels = np.array([ 1., 2., 3., 4., 5., 6. ])\n",
    "edges_log = np.logspace( -1., np.log10( sidelength) , 16 )\n",
    "edges = np.linspace( 0., sidelength, 16 )"
   ]
  },
  {
   "cell_type": "code",
   "execution_count": 7,
   "metadata": {},
   "outputs": [],
   "source": [
    "xs = edges[:-1] + 0.5 * ( edges[1] - edges[0] )"
   ]
  },
  {
   "cell_type": "code",
   "execution_count": 8,
   "metadata": {},
   "outputs": [],
   "source": [
    "xs_log = 10.**( np.log10( edges_log[:-1] ) + 0.5 * ( np.log10( edges_log[1] ) - np.log10( edges_log[0] ) ) )"
   ]
  },
  {
   "cell_type": "code",
   "execution_count": 9,
   "metadata": {},
   "outputs": [],
   "source": [
    "n_per_bin = round( n / (edges_log.size - 1 ) / 2 )"
   ]
  },
  {
   "cell_type": "markdown",
   "metadata": {},
   "source": [
    "##### DEBUG\n",
    "xs_log = xs\n",
    "edges_log = edges"
   ]
  },
  {
   "cell_type": "markdown",
   "metadata": {},
   "source": [
    "# Setup idealized projections"
   ]
  },
  {
   "cell_type": "code",
   "execution_count": 10,
   "metadata": {},
   "outputs": [],
   "source": [
    "ips = []\n",
    "all_length_scales = []"
   ]
  },
  {
   "cell_type": "markdown",
   "metadata": {},
   "source": [
    "# Radial distribution\n",
    "ip = idealized.IdealizedProjection( sidelength )\n",
    "ip.add_ellipse(\n",
    "    c = (0., 0.),\n",
    "    a = 90.,\n",
    "    value = levels[5],\n",
    ")\n",
    "length_scales = {}\n",
    "length_scales['core'] = 90.\n",
    "\n",
    "structs, values = copy.copy( ip.structs ), copy.copy( ip.struct_values )\n",
    "for i, (struct, value) in enumerate( zip( *[ structs, values ] ) ):\n",
    "    ip.add_concentric_structures(\n",
    "        struct,\n",
    "        value = levels[5],\n",
    "        n_concentric = 4,\n",
    "        dr = 30.,\n",
    "    )\n",
    "\n",
    "ips.append( ip )\n",
    "all_length_scales.append( length_scales )"
   ]
  },
  {
   "cell_type": "code",
   "execution_count": 11,
   "metadata": {},
   "outputs": [],
   "source": [
    "# Radial distribution\n",
    "ip = idealized.IdealizedProjection( sidelength )\n",
    "ip.add_sphere(\n",
    "    c = (0., 0.),\n",
    "    r = 300.,\n",
    "    n_annuli = 64,\n",
    "    value = levels[-1],\n",
    ")\n",
    "length_scales = {}\n",
    "length_scales['main'] = 300.\n",
    "length_scales['annuli'] = 100.\n",
    "\n",
    "ips.append( ip )\n",
    "all_length_scales.append( length_scales )"
   ]
  },
  {
   "cell_type": "code",
   "execution_count": 12,
   "metadata": {},
   "outputs": [],
   "source": [
    "# Radial distribution and satellite\n",
    "ip = idealized.IdealizedProjection( sidelength )\n",
    "r = 300.\n",
    "ip.add_sphere(\n",
    "    c = (0., 0.),\n",
    "    r = r,\n",
    "    value = levels[-1],\n",
    "    n_annuli = 64,\n",
    ")\n",
    "den = levels[-1] / ( 2. * r )\n",
    "mass = den * ( 4. / 3. * np.pi * r**3. )\n",
    "\n",
    "r_sat = 150.\n",
    "mass_sat = mass / 10.\n",
    "den_sat = mass_sat / ( 4. / 3. * np.pi * r_sat**3. )\n",
    "value_sat = den_sat * 2. * r_sat\n",
    "ip.add_sphere(\n",
    "    c = (180., 180.),\n",
    "    r = 150.,\n",
    "    value = value_sat,\n",
    "    n_annuli = 64,\n",
    ")\n",
    "length_scales = {}\n",
    "length_scales['main'] = r\n",
    "length_scales['annuli'] = 100.\n",
    "length_scales['satellite'] = r_sat\n",
    "\n",
    "ips.append( ip )\n",
    "all_length_scales.append( length_scales )"
   ]
  },
  {
   "cell_type": "markdown",
   "metadata": {},
   "source": [
    "# Radial distribution and satellite\n",
    "ip = idealized.IdealizedProjection(sidelength)\n",
    "ip.add_ellipse(\n",
    "    c = (0., 0.),\n",
    "    a = 90.,\n",
    "    value = levels[5],\n",
    ")\n",
    "length_scales = {}\n",
    "length_scales['core'] = 90.\n",
    "ip.add_ellipse(\n",
    "    c = (180., 180.),\n",
    "    a = 40.,\n",
    "    value = levels[4],\n",
    ")\n",
    "length_scales['satellite'] = 40.\n",
    "\n",
    "structs, values = copy.copy( ip.structs ), copy.copy( ip.struct_values )\n",
    "for i, (struct, value) in enumerate( zip( *[ structs, values ] ) ):\n",
    "    ip.add_concentric_structures(\n",
    "        struct,\n",
    "        value = levels[5],\n",
    "        n_concentric = 4,\n",
    "        dr = 30.,\n",
    "    )\n",
    "\n",
    "ips.append( ip )\n",
    "all_length_scales.append( length_scales )"
   ]
  },
  {
   "cell_type": "markdown",
   "metadata": {},
   "source": [
    "# Clumps\n",
    "ip = idealized.IdealizedProjection(sidelength)\n",
    "ip.add_clumps(\n",
    "    r_clump = r_clump,\n",
    "    c = (0., 0.),\n",
    "    r_area = 150.,\n",
    "    fcov = 0.5,\n",
    "    value = levels[5],\n",
    ")\n",
    "length_scales = {}\n",
    "length_scales['core'] = 150.\n",
    "length_scales['clump'] = r_clump\n",
    "\n",
    "structs, values = copy.copy( ip.structs ), copy.copy( ip.struct_values )\n",
    "for i, (struct, value) in enumerate( zip( *[ structs, values ] ) ):\n",
    "    ip.add_concentric_structures(\n",
    "        struct,\n",
    "        value = levels[5],\n",
    "        n_concentric = 4,\n",
    "        dr = 10.,\n",
    "    )\n",
    "\n",
    "ips.append( ip )\n",
    "all_length_scales.append( length_scales )"
   ]
  },
  {
   "cell_type": "code",
   "execution_count": 13,
   "metadata": {},
   "outputs": [],
   "source": [
    "# Filament\n",
    "ip = idealized.IdealizedProjection(sidelength)\n",
    "ip.add_curve(\n",
    "    v1 = (0., 0.),\n",
    "    v2 = (-300., 60.),\n",
    "    theta_a = 20.,\n",
    "    theta_b = 60.,\n",
    "    value = levels[-1],\n",
    ")\n",
    "length_scales = {}\n",
    "length_scales['long'] = np.sqrt( 300.**2. + 60.**2. )\n",
    "\n",
    "structs, values = copy.copy( ip.structs ), copy.copy( ip.struct_values )\n",
    "for i, (struct, value) in enumerate( zip( *[ structs, values ] ) ):\n",
    "    width = 40.\n",
    "    n_concentric = 40\n",
    "    ip.add_concentric_structures(\n",
    "        struct,\n",
    "        value = levels[5],\n",
    "        n_concentric = n_concentric,\n",
    "        dr = width / n_concentric,\n",
    "        dv = ( levels[0] - levels[-1] ) / n_concentric\n",
    "    )\n",
    "\n",
    "ips.append( ip )\n",
    "all_length_scales.append( length_scales )"
   ]
  },
  {
   "cell_type": "markdown",
   "metadata": {},
   "source": [
    "# All of the above\n",
    "ip = idealized.IdealizedProjection(sidelength)\n",
    "ip.add_ellipse(\n",
    "    c = (0., 0.),\n",
    "    a = 90.,\n",
    "    value = levels[5],\n",
    ")\n",
    "length_scales = {}\n",
    "length_scales['core'] = 90.\n",
    "ip.add_ellipse(\n",
    "    c = (180., 180.),\n",
    "    a = 60.,\n",
    "    value = levels[4],\n",
    ")\n",
    "length_scales['satellite'] = 60.\n",
    "ip.add_clumps(\n",
    "    r_clump = r_clump,\n",
    "    c = (0., 0.),\n",
    "    r_area = 150.,\n",
    "    fcov = 0.5,\n",
    "    value = levels[5],\n",
    ")\n",
    "length_scales['clump'] = r_clump\n",
    "ip.add_curve(\n",
    "    v1 = (0., 0.),\n",
    "    v2 = (-300., 60.),\n",
    "    theta_a = 20.,\n",
    "    theta_b = 60.,\n",
    "    value = levels[5],\n",
    ")\n",
    "length_scales['filament'] = np.sqrt( 300.**2. + 60.**2. )\n",
    "\n",
    "structs, values = copy.copy( ip.structs ), copy.copy( ip.struct_values )\n",
    "for i, (struct, value) in enumerate( zip( *[ structs, values ] ) ):\n",
    "    ip.add_concentric_structures(\n",
    "        struct,\n",
    "        value = levels[5],\n",
    "        n_concentric = 4,\n",
    "        dr = 30.,\n",
    "    )\n",
    "\n",
    "ips.append( ip )\n",
    "all_length_scales.append( length_scales )"
   ]
  },
  {
   "cell_type": "markdown",
   "metadata": {},
   "source": [
    "# Add backgrounds\n",
    "[ ip.add_background( levels[0] ) for ip in ips ]"
   ]
  },
  {
   "cell_type": "code",
   "execution_count": 14,
   "metadata": {},
   "outputs": [
    {
     "data": {
      "text/plain": [
       "[None, None, None]"
      ]
     },
     "execution_count": 14,
     "metadata": {},
     "output_type": "execute_result"
    }
   ],
   "source": [
    "# Generate Projections\n",
    "[ ip.generate_idealized_projection() for ip in ips ]"
   ]
  },
  {
   "cell_type": "markdown",
   "metadata": {},
   "source": [
    "# Calculate Metrics"
   ]
  },
  {
   "cell_type": "code",
   "execution_count": 15,
   "metadata": {},
   "outputs": [],
   "source": [
    "all_tpcfs = {}"
   ]
  },
  {
   "cell_type": "markdown",
   "metadata": {},
   "source": [
    "### Calculate weighted TPCF"
   ]
  },
  {
   "cell_type": "code",
   "execution_count": 16,
   "metadata": {},
   "outputs": [
    {
     "name": "stderr",
     "output_type": "stream",
     "text": [
      "/Users/zhafen/repos/stained_glass/stained_glass/stats.py:469: RuntimeWarning: invalid value encountered in true_divide\n",
      "  result /= scaling\n"
     ]
    }
   ],
   "source": [
    "tpcfs = []\n",
    "means = []\n",
    "for i, ip in enumerate( ips ):\n",
    "    \n",
    "    # Get data\n",
    "    ip.generate_sightlines( n )\n",
    "    ws = ip.evaluate_sightlines()\n",
    "    coords = np.array([ ip.sl_xs, ip.sl_ys ]).transpose()\n",
    "    \n",
    "    tpcf, edges = stats.weighted_tpcf(\n",
    "        coords,\n",
    "        ws,\n",
    "        edges_log,\n",
    "    )\n",
    "    \n",
    "    tpcfs.append( tpcf )\n",
    "    \n",
    "    # Store the fiducially-sampled mean for more consistent normalization later\n",
    "    means.append( np.nanmean( ws ) )\n",
    "    \n",
    "all_tpcfs[( 'W', )] = tpcfs"
   ]
  },
  {
   "cell_type": "markdown",
   "metadata": {},
   "source": [
    "### Generate Paired Coordinates"
   ]
  },
  {
   "cell_type": "code",
   "execution_count": 17,
   "metadata": {},
   "outputs": [],
   "source": [
    "v_edges = np.array([ ip.ip_values.min(), ip.ip_values.max() ])"
   ]
  },
  {
   "cell_type": "code",
   "execution_count": 18,
   "metadata": {},
   "outputs": [],
   "source": [
    "pair_sampler = sample.PairSampler( ip.sidelength, edges_log, v_edges )\n",
    "dr_coords1, dr_coords2 = pair_sampler.generate_pair_sampling_coords(\n",
    "    n_per_bin = n_per_bin,\n",
    ")"
   ]
  },
  {
   "cell_type": "code",
   "execution_count": 19,
   "metadata": {},
   "outputs": [],
   "source": [
    "pair_coords = np.concatenate([ np.concatenate( dr_coords1 ), np.concatenate( dr_coords2 ) ])"
   ]
  },
  {
   "cell_type": "code",
   "execution_count": 20,
   "metadata": {},
   "outputs": [],
   "source": [
    "# Get the normalizations using the means from non-paired sampling\n",
    "means = np.array( means )\n",
    "normalizations = means ** -2."
   ]
  },
  {
   "cell_type": "markdown",
   "metadata": {},
   "source": [
    "### Calculate annuli-binned, pair-sampled, weighted TPCF"
   ]
  },
  {
   "cell_type": "code",
   "execution_count": 21,
   "metadata": {},
   "outputs": [
    {
     "name": "stderr",
     "output_type": "stream",
     "text": [
      "/Users/zhafen/repos/stained_glass/stained_glass/stats.py:374: RuntimeWarning: invalid value encountered in true_divide\n",
      "  result /= dd\n",
      "/Users/zhafen/repos/stained_glass/stained_glass/stats.py:435: RuntimeWarning: invalid value encountered in true_divide\n",
      "  bin_average = bin_sum / dd\n",
      "/Users/zhafen/repos/stained_glass/stained_glass/stats.py:464: RuntimeWarning: invalid value encountered in true_divide\n",
      "  scaling = bin_square_sum / dd\n"
     ]
    }
   ],
   "source": [
    "tpcfs = []\n",
    "annuli_medians = []\n",
    "for i, ip in enumerate( ips ):\n",
    "    \n",
    "    # Get data\n",
    "    ip.set_sightlines( pair_coords )\n",
    "    ws = ip.evaluate_sightlines()\n",
    "    \n",
    "    tpcf, edges = stats.annuli_weighted_tpcf(\n",
    "        pair_coords,\n",
    "        ws,\n",
    "        edges_log,\n",
    "        r_bins = annuli,\n",
    "#         normalization = normalizations[i],\n",
    "    )\n",
    "    \n",
    "    tpcfs.append( tpcf )\n",
    "    \n",
    "    # Annuli medians for later use\n",
    "    medians = []\n",
    "    r = np.sqrt( ( pair_coords**2. ).sum( axis=1 ) )\n",
    "    for i in range( len( annuli ) - 1 ):\n",
    "        in_annuli = ( annuli[i] < r ) & ( r < annuli[i+1] ) \n",
    "        medians.append( np.nanmedian( ws[in_annuli] ) )\n",
    "    annuli_medians.append( medians )\n",
    "    \n",
    "all_tpcfs[( 'A', 'PS', 'W', )] = tpcfs"
   ]
  },
  {
   "cell_type": "markdown",
   "metadata": {},
   "source": [
    "### Calculate pair-sampled, weighted TPCF"
   ]
  },
  {
   "cell_type": "code",
   "execution_count": 22,
   "metadata": {},
   "outputs": [],
   "source": [
    "tpcfs = []\n",
    "for i, ip in enumerate( ips ):\n",
    "    \n",
    "    # Get data\n",
    "    ip.set_sightlines( pair_coords )\n",
    "    ws = ip.evaluate_sightlines()\n",
    "    \n",
    "    tpcf, edges = stats.weighted_tpcf(\n",
    "        pair_coords,\n",
    "        ws,\n",
    "        edges_log,\n",
    "    )\n",
    "    \n",
    "    tpcfs.append( tpcf )\n",
    "    \n",
    "all_tpcfs[( 'PS', 'W', )] = tpcfs"
   ]
  },
  {
   "cell_type": "markdown",
   "metadata": {},
   "source": [
    "# Plot the Different Metrics"
   ]
  },
  {
   "cell_type": "code",
   "execution_count": 23,
   "metadata": {},
   "outputs": [],
   "source": [
    "all_tpcfs = verdict.Dict( all_tpcfs )"
   ]
  },
  {
   "cell_type": "code",
   "execution_count": 24,
   "metadata": {},
   "outputs": [],
   "source": [
    "ncols = len( ips )\n",
    "nrows = 2"
   ]
  },
  {
   "cell_type": "code",
   "execution_count": 25,
   "metadata": {},
   "outputs": [],
   "source": [
    "def label_or_not( label, do_label ):\n",
    "    \n",
    "    if do_label:\n",
    "        return label\n",
    "    \n",
    "    return None"
   ]
  },
  {
   "cell_type": "code",
   "execution_count": 26,
   "metadata": {},
   "outputs": [],
   "source": [
    "colors = palettable.matplotlib.Viridis_4.mpl_colors[1:][::-1]"
   ]
  },
  {
   "cell_type": "code",
   "execution_count": 27,
   "metadata": {},
   "outputs": [
    {
     "name": "stderr",
     "output_type": "stream",
     "text": [
      "/Applications/anaconda/envs/py36/lib/python3.6/site-packages/ipykernel_launcher.py:70: MatplotlibDeprecationWarning: Adding an axes using the same arguments as a previous axes currently reuses the earlier instance.  In a future version, a new instance will always be created and returned.  Meanwhile, this warning can be suppressed, and the future behavior ensured, by passing a unique label to each axes instance.\n"
     ]
    },
    {
     "data": {
      "image/png": "[encoded data removed]",
      "text/plain": [
       "<Figure size 648x432 with 6 Axes>"
      ]
     },
     "metadata": {},
     "output_type": "display_data"
    }
   ],
   "source": [
    "fig = plt.figure( figsize=(3*ncols, 3*nrows), facecolor='w' )\n",
    "ax = plt.gca()\n",
    "\n",
    "gs = gridspec.GridSpec( nrows, ncols )\n",
    "gs.update( wspace=0.0001, hspace=0.0001 )\n",
    "\n",
    "for i, ip in enumerate( ips ):\n",
    "    \n",
    "    # Plot the idealized image\n",
    "    ax = plt.subplot( gs[0,i], )\n",
    "    ip.plot_idealized_projection(\n",
    "        ax,\n",
    "#         cmap = plt.get_cmap( 'Greys' ),\n",
    "        cmap = plt.get_cmap( 'Greys_r' ),\n",
    "        vmin = 0,\n",
    "#         vmax = levels.max(),\n",
    "    )\n",
    "    \n",
    "    # DEBUGL\n",
    "#     ip.set_sightlines( pair_coords[:50] )\n",
    "#     ip.plot_sightlines( ax, s=3, zorder=10000 )\n",
    "    \n",
    "    # Circles for annuli\n",
    "    for k in range( len( annuli ) - 1 ):\n",
    "        shift = 5.\n",
    "        for r in [ annuli[k] + shift, annuli[k+1] - shift*2 ]:\n",
    "            cir = plt.Circle(\n",
    "                (0,0),\n",
    "                radius=r,\n",
    "                edgecolor=colors[k],\n",
    "                facecolor='none',\n",
    "                linewidth = 4,\n",
    "            )\n",
    "            cir.set_zorder( 1000 )\n",
    "#             ax.add_patch( cir )\n",
    "    \n",
    "    # Fiducial\n",
    "    ax = plt.subplot( gs[1,i], )\n",
    "    \n",
    "    ax.set_ylim( -0.1, 1. )\n",
    "    \n",
    "    # TPCFs\n",
    "    tpcf = all_tpcfs[( 'PS', 'W', )][i]\n",
    "    ax.plot(\n",
    "        xs_log,\n",
    "        tpcf,\n",
    "        linewidth = 6,\n",
    "        color = 'k',\n",
    "        label = label_or_not( 'no radial normalization', ax.is_first_col() ),\n",
    "        zorder = -1,\n",
    "    )\n",
    "    \n",
    "    ax.set_ylim(-0.1, 1. )\n",
    " \n",
    "    # Annuli\n",
    "    tpcfs = all_tpcfs[( 'A', 'PS', 'W', )][i]\n",
    "    for k, tpcf in enumerate( tpcfs ):\n",
    "        ax.plot(\n",
    "            xs_log,\n",
    "            tpcf,\n",
    "            linewidth = 3,\n",
    "            color = colors[k],\n",
    "        )\n",
    "    ax.set_ylim( -0.15, 1. )\n",
    "    \n",
    "# Go back through and fix up axes\n",
    "for i in range( ncols ):\n",
    "    for j in range( nrows ):\n",
    "        \n",
    "        ax = plt.subplot( gs[j,i], )\n",
    "        \n",
    "        # Projection Plot options\n",
    "        if j < 1:\n",
    "            \n",
    "            ax.set_aspect( 'equal' )\n",
    "            ax.tick_params( labelleft=False, labelbottom=False, left=False, bottom=False)\n",
    "            \n",
    "        # Statistics options\n",
    "        if j >= 1:\n",
    "            \n",
    "            # Length scales\n",
    "            for key, item in all_length_scales[i].items():\n",
    "                ax.axvline(\n",
    "                    item,\n",
    "                    linewidth = 1.,\n",
    "                    color = '.3',\n",
    "                    linestyle = '--',\n",
    "                )\n",
    "                \n",
    "            ax.axhline(\n",
    "                color = '0.1',\n",
    "                linewidth = 0.5,\n",
    "            )\n",
    "            \n",
    "            # Remove tick labels\n",
    "            if not ax.is_first_col():\n",
    "                ax.tick_params( labelleft=False, left=False, )\n",
    "            if not ax.is_last_row():\n",
    "                ax.tick_params( labelbottom=False, bottom=False, )\n",
    "            ax.tick_params( which='minor', bottom=True, )\n",
    "            \n",
    "            # Axis tweaks\n",
    "            ax.set_xlim( xs_log[0], xs_log[-1] )\n",
    "            ax.set_xscale( 'log' )\n",
    "            \n",
    "            # Make sure enough ticks show up\n",
    "            locmaj = matplotlib.ticker.LogLocator( base=10, numticks=12 ) \n",
    "            ax.xaxis.set_major_locator( locmaj )\n",
    "            locmin = matplotlib.ticker.LogLocator( base=10.0, subs=np.arange( 0.1, 1., 0.1), numticks=12 )\n",
    "            ax.xaxis.set_minor_locator( locmin )\n",
    "            ax.xaxis.set_minor_formatter( matplotlib.ticker.NullFormatter() )\n",
    "            \n",
    "            # Format more nicely\n",
    "            replacements = {\n",
    "                1.: '1',\n",
    "                10.: '10',\n",
    "                100.: '100',\n",
    "            }\n",
    "            new_labels = []\n",
    "            for ii, old_label in enumerate( ax.get_xticklabels() ):\n",
    "                label = old_label\n",
    "                for val, s in replacements.items():\n",
    "                    if np.isclose( ax.get_xticks()[ii], val ):\n",
    "                        label = s\n",
    "                        break            \n",
    "                new_labels.append( label )\n",
    "            ax.set_xticklabels( new_labels )\n",
    "\n",
    "            if ax.is_last_row():\n",
    "                ax.set_xlabel( r'$\\delta$', fontsize=22 )\n",
    "            if ax.is_first_col():\n",
    "                ax.set_ylabel( r'$\\Xi$', fontsize=22 )\n",
    "          \n",
    "#             # Legend\n",
    "#             if ax.is_first_col():\n",
    "#                 ax.legend(\n",
    "#                     bbox_to_anchor = (0.0, 2.02, 5., 0.5 ),\n",
    "#                     loc = 'lower left',\n",
    "#                     ncol = 4,\n",
    "#                     mode = \"expand\",\n",
    "#                     borderaxespad = 0.,\n",
    "#                     prop = {'size': 16},\n",
    "#                 )\n",
    "\n",
    "# lgd = fig.legend(\n",
    "# #     bbox_to_anchor = (0.1, 0.87, 0.7, 1.0 ),\n",
    "#     loc = 'lower left',\n",
    "#     ncol = 4,\n",
    "#     mode = \"expand\",\n",
    "#     borderaxespad = 0.,\n",
    "#     prop = {'size': 16},\n",
    "# )\n",
    "\n",
    "fig.savefig('./weighted_correlations.pdf', bbox_inches='tight')"
   ]
  },
  {
   "cell_type": "code",
   "execution_count": 28,
   "metadata": {},
   "outputs": [
    {
     "data": {
      "text/plain": [
       "array([-1.06479427e+00, -4.35016749e-01, -3.29653044e-01, -2.74414221e-01,\n",
       "       -2.38669116e-01, -2.12958855e-01, -1.93230824e-01, -1.77413677e-01,\n",
       "       -1.64321761e-01, -1.53220119e-01, -1.43625310e-01, -1.35204336e-01,\n",
       "       -1.27719217e-01, -1.20994662e-01, -1.14898265e-01, -1.09327848e-01,\n",
       "       -1.04203102e-01, -9.94598924e-02, -9.50462762e-02, -9.09196631e-02,\n",
       "       -8.70447423e-02, -8.33919471e-02, -7.99362973e-02, -7.66565155e-02,\n",
       "       -7.35343427e-02, -7.05540029e-02, -6.77017793e-02, -6.49656758e-02,\n",
       "       -6.23351438e-02, -5.98008605e-02, -5.73545471e-02, -5.49888189e-02,\n",
       "       -5.26970604e-02, -5.04733218e-02, -4.83122306e-02, -4.62089186e-02,\n",
       "       -4.41589580e-02, -4.21583083e-02, -4.02032703e-02, -3.82904455e-02,\n",
       "       -3.64167027e-02, -3.45791473e-02, -3.27750957e-02, -3.10020520e-02,\n",
       "       -2.92576878e-02, -2.75398248e-02, -2.58464185e-02, -2.41755445e-02,\n",
       "       -2.25253856e-02, -2.08942208e-02, -1.92804147e-02, -1.76824088e-02,\n",
       "       -1.60987127e-02, -1.45278964e-02, -1.29685836e-02, -1.14194448e-02,\n",
       "       -9.87919153e-03, -8.34657060e-03, -6.82035867e-03, -5.29935731e-03,\n",
       "       -3.78238814e-03, -2.26828823e-03,  5.99924409e+00])"
      ]
     },
     "execution_count": 28,
     "metadata": {},
     "output_type": "execute_result"
    }
   ],
   "source": [
    "ips[0].ip_values"
   ]
  },
  {
   "cell_type": "markdown",
   "metadata": {},
   "source": [
    "**Switch to co-adding instead of picking highest value.**"
   ]
  }
 ],
 "metadata": {
  "kernelspec": {
   "display_name": "Python 3",
   "language": "python",
   "name": "python3"
  },
  "language_info": {
   "codemirror_mode": {
    "name": "ipython",
    "version": 3
   },
   "file_extension": ".py",
   "mimetype": "text/x-python",
   "name": "python",
   "nbconvert_exporter": "python",
   "pygments_lexer": "ipython3",
   "version": "3.6.7"
  }
 },
 "nbformat": 4,
 "nbformat_minor": 4
}
