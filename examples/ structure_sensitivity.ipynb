{
 "cells": [
  {
   "cell_type": "code",
   "execution_count": 1,
   "metadata": {},
   "outputs": [],
   "source": [
    "import copy\n",
    "import numpy as np\n",
    "from tqdm import tqdm"
   ]
  },
  {
   "cell_type": "code",
   "execution_count": 2,
   "metadata": {},
   "outputs": [],
   "source": [
    "%matplotlib inline"
   ]
  },
  {
   "cell_type": "code",
   "execution_count": 3,
   "metadata": {},
   "outputs": [],
   "source": [
    "import matplotlib\n",
    "import matplotlib.pyplot as plt\n",
    "import matplotlib.gridspec as gridspec\n",
    "\n",
    "import palettable\n",
    "import descartes"
   ]
  },
  {
   "cell_type": "code",
   "execution_count": 4,
   "metadata": {},
   "outputs": [],
   "source": [
    "import verdict"
   ]
  },
  {
   "cell_type": "code",
   "execution_count": 5,
   "metadata": {},
   "outputs": [],
   "source": [
    "import stained_glass.generate as generate\n",
    "import stained_glass.idealized as idealized\n",
    "import stained_glass.stats as stats\n",
    "import stained_glass.sample as sample"
   ]
  },
  {
   "cell_type": "markdown",
   "metadata": {},
   "source": [
    "# Parameters"
   ]
  },
  {
   "cell_type": "code",
   "execution_count": 6,
   "metadata": {},
   "outputs": [],
   "source": [
    "# Number of sightlines\n",
    "n = 10000\n",
    "sidelength = 600.\n",
    "annuli = np.array([ 20., 100., 200., 300. ])\n",
    "edges_log = np.logspace( -1., np.log10( sidelength), 64 )\n",
    "edges = np.linspace( 0., sidelength, 64 )"
   ]
  },
  {
   "cell_type": "code",
   "execution_count": 7,
   "metadata": {},
   "outputs": [],
   "source": [
    "xs = edges[:-1] + 0.5 * ( edges[1] - edges[0] )"
   ]
  },
  {
   "cell_type": "code",
   "execution_count": 8,
   "metadata": {},
   "outputs": [],
   "source": [
    "xs_log = 10.**( np.log10( edges_log[:-1] ) + 0.5 * ( np.log10( edges_log[1] ) - np.log10( edges_log[0] ) ) )"
   ]
  },
  {
   "cell_type": "code",
   "execution_count": 9,
   "metadata": {},
   "outputs": [],
   "source": [
    "n_per_bin = round( n / (edges_log.size - 1 ) / 2 )"
   ]
  },
  {
   "cell_type": "markdown",
   "metadata": {},
   "source": [
    "# Setup idealized projections"
   ]
  },
  {
   "cell_type": "code",
   "execution_count": 10,
   "metadata": {},
   "outputs": [],
   "source": [
    "ips = []\n",
    "all_length_scales = []"
   ]
  },
  {
   "cell_type": "markdown",
   "metadata": {},
   "source": [
    "### Parameters"
   ]
  },
  {
   "cell_type": "code",
   "execution_count": 11,
   "metadata": {},
   "outputs": [],
   "source": [
    "r_cen = 170.\n",
    "value_cen = 6.\n",
    "r_vir = 250.\n",
    "m_vir = 1e12\n",
    "r_cen_out = 330.\n",
    "value_cen_out = 3.\n",
    "\n",
    "# Satellite\n",
    "r_sat = 50.\n",
    "den = value_cen / ( 2. * r_cen )\n",
    "mass = den * ( 4. / 3. * np.pi * r_cen**3. )\n",
    "mass_sat = mass / 5.\n",
    "den_sat = mass_sat / ( 4. / 3. * np.pi * r_sat**3. )\n",
    "value_sat = den_sat * 2. * r_sat\n",
    "value_sat = 6.\n",
    "\n",
    "# Filament\n",
    "filament_val = 3e7\n",
    "dx = -400.\n",
    "theta_b = 100.\n",
    "\n",
    "# Clumps\n",
    "dr = 0.5\n",
    "r_clumps = 10.**np.arange( -1., 1. + dr, dr )\n",
    "f_covs = np.arange( 0.1, 1.0, 0.1 )\n",
    "clump_val = 5e7"
   ]
  },
  {
   "cell_type": "markdown",
   "metadata": {},
   "source": [
    "### Control w no clumps"
   ]
  },
  {
   "cell_type": "code",
   "execution_count": 12,
   "metadata": {},
   "outputs": [],
   "source": [
    "ip = idealized.IdealizedProjection( sidelength )\n",
    "ip.add_nfw(\n",
    "    center = (0., 0.),\n",
    "    r_vir = r_vir,\n",
    "    m_vir = m_vir,\n",
    "    n_annuli = 64,\n",
    ")\n",
    "edge_val = min( ip.struct_values )\n",
    "\n",
    "# Satellite\n",
    "# ip.add_sphere(\n",
    "#     c = (-250., 50.),\n",
    "#     r = r_sat,\n",
    "#     value = value_sat,\n",
    "#     n_annuli = 64,\n",
    "# )\n",
    "\n",
    "# Filament\n",
    "ip.add_curve(\n",
    "    v1 = (0., 0.),\n",
    "    v2 = (dx, 60.),\n",
    "    theta_a = 20.,\n",
    "    theta_b = theta_b,\n",
    "    value = filament_val,\n",
    ")\n",
    "length_scales = {}\n",
    "width = 40.\n",
    "n_concentric = 40\n",
    "ip.add_concentric_structures(\n",
    "    ip.structs[-1],\n",
    "    value = filament_val,\n",
    "    n_concentric = n_concentric,\n",
    "    dr = width / n_concentric,\n",
    "    dv = - ( filament_val - edge_val ) / n_concentric\n",
    ")\n",
    "\n",
    "length_scales = {}\n",
    "# length_scales['long'] = np.sqrt( dx**2. + 60.**2. )\n",
    "length_scales['halo'] = r_vir\n",
    "length_scales['annuli'] = 100.\n",
    "# length_scales['satellite'] = r_sat\n",
    "\n",
    "ips.append( ip )\n",
    "all_length_scales.append( length_scales )"
   ]
  },
  {
   "cell_type": "markdown",
   "metadata": {},
   "source": [
    "### Varying clump radii"
   ]
  },
  {
   "cell_type": "code",
   "execution_count": null,
   "metadata": {},
   "outputs": [
    {
     "name": "stderr",
     "output_type": "stream",
     "text": [
      "  0%|          | 0/9 [00:00<?, ?it/s]\n",
      "  0%|          | 0/5 [00:00<?, ?it/s]\u001b[A\n",
      " 20%|██        | 1/5 [00:53<03:33, 53.41s/it]\u001b[A\n",
      " 40%|████      | 2/5 [00:58<01:56, 38.87s/it]\u001b[A\n",
      " 60%|██████    | 3/5 [00:58<00:54, 27.37s/it]\u001b[A\n",
      "100%|██████████| 5/5 [00:59<00:00, 11.82s/it]\u001b[A\n",
      " 11%|█         | 1/9 [00:59<07:52, 59.11s/it]\n",
      "  0%|          | 0/5 [00:00<?, ?it/s]\u001b[A\n",
      " 20%|██        | 1/5 [01:45<07:02, 105.56s/it]\u001b[A\n",
      " 40%|████      | 2/5 [01:55<03:50, 77.00s/it] \u001b[A\n",
      " 60%|██████    | 3/5 [01:57<01:48, 54.25s/it]\u001b[A\n",
      " 80%|████████  | 4/5 [01:57<00:38, 38.04s/it]\u001b[A\n",
      "100%|██████████| 5/5 [01:57<00:00, 23.48s/it]\u001b[A\n",
      " 22%|██▏       | 2/9 [02:56<08:56, 76.60s/it]\n",
      "  0%|          | 0/5 [00:00<?, ?it/s]\u001b[A\n",
      " 20%|██        | 1/5 [02:44<10:56, 164.19s/it]\u001b[A\n",
      " 40%|████      | 2/5 [02:59<05:58, 119.51s/it]\u001b[A\n",
      " 60%|██████    | 3/5 [03:01<02:48, 84.13s/it] \u001b[A\n",
      "100%|██████████| 5/5 [03:01<00:00, 36.27s/it]\u001b[A\n",
      " 33%|███▎      | 3/9 [05:57<10:48, 108.02s/it]\n",
      "  0%|          | 0/5 [00:00<?, ?it/s]\u001b[A\n",
      " 20%|██        | 1/5 [03:39<14:38, 219.66s/it]\u001b[A\n",
      " 40%|████      | 2/5 [03:59<07:59, 159.78s/it]\u001b[A\n",
      " 60%|██████    | 3/5 [04:01<03:45, 112.52s/it]\u001b[A\n",
      " 80%|████████  | 4/5 [04:02<01:18, 78.85s/it] \u001b[A\n",
      "100%|██████████| 5/5 [04:02<00:00, 48.47s/it]\u001b[A\n",
      " 44%|████▍     | 4/9 [10:00<12:21, 148.32s/it]\n",
      "  0%|          | 0/5 [00:00<?, ?it/s]\u001b[A"
     ]
    }
   ],
   "source": [
    "for f_cov in tqdm( f_covs ):\n",
    "    for r_clump in tqdm( r_clumps ):\n",
    "        # Main halo\n",
    "        ip = idealized.IdealizedProjection(sidelength)\n",
    "        ip.add_nfw(\n",
    "            center = (0., 0.),\n",
    "            r_vir = r_vir,\n",
    "            m_vir = m_vir,\n",
    "            n_annuli = 64,\n",
    "        )\n",
    "        edge_val = min( ip.struct_values )\n",
    "\n",
    "        # # Satellite\n",
    "        # ip.add_sphere(\n",
    "        #     c = (-250., 50.),\n",
    "        #     r = r_sat,\n",
    "        #     value = value_sat,\n",
    "        #     n_annuli = 64,\n",
    "        # )\n",
    "\n",
    "        # Filament\n",
    "        ip.add_curve(\n",
    "            v1 = (0., 0.),\n",
    "            v2 = (dx, 60.),\n",
    "            theta_a = 20.,\n",
    "            theta_b = theta_b,\n",
    "            value = filament_val,\n",
    "        )\n",
    "        width = 40.\n",
    "        n_concentric = 40\n",
    "        ip.add_concentric_structures(\n",
    "            ip.structs[-1],\n",
    "            value = filament_val,\n",
    "            n_concentric = n_concentric,\n",
    "            dr = width / n_concentric,\n",
    "            dv = - ( filament_val - edge_val ) / n_concentric\n",
    "        )\n",
    "\n",
    "        # Clumps\n",
    "        ip.add_clumps(\n",
    "            r_clump = r_clump,\n",
    "            c = (0., 0.),\n",
    "            r_area = r_vir,\n",
    "            fcov = f_cov,\n",
    "            value = clump_val,\n",
    "        )\n",
    "        length_scales = {}\n",
    "        # length_scales['long'] = np.sqrt( 300.**2. + 60.**2. )\n",
    "        length_scales['halo'] = r_vir\n",
    "        length_scales['clump'] = r_clump\n",
    "        length_scales['annuli'] = 100.\n",
    "\n",
    "        # structs, values = copy.copy( ip.structs ), copy.copy( ip.struct_values )\n",
    "        # for i, (struct, value) in enumerate( zip( *[ structs, values ] ) ):\n",
    "        #     width = 10.\n",
    "        #     n_concentric = 10\n",
    "        #     ip.add_concentric_structures(\n",
    "        #         ip.structs[-1],\n",
    "        #         value = filament_val,\n",
    "        #         n_concentric = n_concentric,\n",
    "        #         dr = width / n_concentric,\n",
    "        #         dv = - ( filament_val - 1. ) / n_concentric\n",
    "        #     )\n",
    "\n",
    "        ips.append( ip )\n",
    "        all_length_scales.append( length_scales )"
   ]
  },
  {
   "cell_type": "markdown",
   "metadata": {},
   "source": [
    "### Finishing Touches"
   ]
  },
  {
   "cell_type": "code",
   "execution_count": null,
   "metadata": {},
   "outputs": [],
   "source": [
    "# Add backgrounds\n",
    "[ ip.add_background( 0.01 ) for ip in ips ]"
   ]
  },
  {
   "cell_type": "code",
   "execution_count": null,
   "metadata": {},
   "outputs": [],
   "source": [
    "# Generate Projections\n",
    "[ ip.generate_idealized_projection() for ip in ips ]"
   ]
  },
  {
   "cell_type": "markdown",
   "metadata": {},
   "source": [
    "# Calculate Metrics"
   ]
  },
  {
   "cell_type": "code",
   "execution_count": null,
   "metadata": {},
   "outputs": [],
   "source": [
    "all_tpcfs = {}"
   ]
  },
  {
   "cell_type": "markdown",
   "metadata": {},
   "source": [
    "### Generate Paired Coordinates"
   ]
  },
  {
   "cell_type": "code",
   "execution_count": null,
   "metadata": {},
   "outputs": [],
   "source": [
    "v_edges = np.array([ ip.ip_values.min(), ip.ip_values.max() ])"
   ]
  },
  {
   "cell_type": "code",
   "execution_count": null,
   "metadata": {},
   "outputs": [],
   "source": [
    "pair_sampler = sample.PairSampler( ip.sidelength, edges_log, v_edges )\n",
    "dr_coords1, dr_coords2 = pair_sampler.generate_pair_sampling_coords(\n",
    "    n_per_bin = n_per_bin,\n",
    ")"
   ]
  },
  {
   "cell_type": "code",
   "execution_count": null,
   "metadata": {},
   "outputs": [],
   "source": [
    "pair_coords = np.concatenate([ np.concatenate( dr_coords1 ), np.concatenate( dr_coords2 ) ])"
   ]
  },
  {
   "cell_type": "markdown",
   "metadata": {},
   "source": [
    "### Calculate pair-sampled, weighted TPCF"
   ]
  },
  {
   "cell_type": "code",
   "execution_count": null,
   "metadata": {},
   "outputs": [],
   "source": [
    "tpcfs = []\n",
    "for i, ip in enumerate( tqdm( ips ) ):\n",
    "        \n",
    "    # Get data\n",
    "    ip.set_sightlines( pair_coords )\n",
    "    ws = ip.evaluate_sightlines()\n",
    "    \n",
    "    tpcf, edges = stats.weighted_tpcf(\n",
    "        pair_coords,\n",
    "        ws,\n",
    "        edges_log,\n",
    "    )\n",
    "    \n",
    "    tpcfs.append( tpcf )\n",
    "    \n",
    "all_tpcfs[( 'PS', 'W', )] = tpcfs"
   ]
  },
  {
   "cell_type": "markdown",
   "metadata": {},
   "source": [
    "### Finish"
   ]
  },
  {
   "cell_type": "code",
   "execution_count": null,
   "metadata": {},
   "outputs": [],
   "source": [
    "all_tpcfs = verdict.Dict( all_tpcfs )"
   ]
  },
  {
   "cell_type": "markdown",
   "metadata": {},
   "source": [
    "# Plot"
   ]
  },
  {
   "cell_type": "markdown",
   "metadata": {},
   "source": [
    "### Setup"
   ]
  },
  {
   "cell_type": "code",
   "execution_count": null,
   "metadata": {},
   "outputs": [],
   "source": [
    "ncols = 2\n",
    "nrows = len( ips )"
   ]
  },
  {
   "cell_type": "code",
   "execution_count": null,
   "metadata": {},
   "outputs": [],
   "source": [
    "def label_or_not( label, do_label ):\n",
    "    \n",
    "    if do_label:\n",
    "        return label\n",
    "    \n",
    "    return None"
   ]
  },
  {
   "cell_type": "code",
   "execution_count": null,
   "metadata": {},
   "outputs": [],
   "source": [
    "colors = palettable.matplotlib.Viridis_4.mpl_colors[1:][::-1]\n",
    "arc_color = palettable.cartocolors.qualitative.Pastel_10.mpl_colors[2]"
   ]
  },
  {
   "cell_type": "code",
   "execution_count": null,
   "metadata": {},
   "outputs": [],
   "source": [
    "matplotlib.rcParams['xtick.major.size'] = 10\n",
    "matplotlib.rcParams['xtick.major.width'] = 2\n",
    "matplotlib.rcParams['xtick.minor.size'] = 5\n",
    "matplotlib.rcParams['xtick.minor.width'] = 1.4\n",
    "matplotlib.rcParams['ytick.major.size'] = 10\n",
    "matplotlib.rcParams['ytick.major.width'] = 2\n",
    "matplotlib.rcParams['ytick.minor.size'] = 5\n",
    "matplotlib.rcParams['ytick.minor.width'] = 1.4\n",
    "\n",
    "matplotlib.rc('xtick', labelsize=16) \n",
    "matplotlib.rc('ytick', labelsize=16) \n",
    "\n",
    "matplotlib.rcParams['mathtext.fontset'] = 'stix'\n",
    "matplotlib.rcParams['font.family'] = 'STIXGeneral'"
   ]
  },
  {
   "cell_type": "markdown",
   "metadata": {},
   "source": [
    "### Projected"
   ]
  },
  {
   "cell_type": "code",
   "execution_count": null,
   "metadata": {},
   "outputs": [],
   "source": [
    "%matplotlib inline\n",
    "\n",
    "fig = plt.figure( figsize=(3*ncols, 3*nrows), facecolor='w' )\n",
    "ax = plt.gca()\n",
    "\n",
    "gs = gridspec.GridSpec( nrows, ncols )\n",
    "gs.update( wspace=0.0001, hspace=0.0001 )\n",
    "\n",
    "for i, ip in enumerate( ips ):\n",
    "    \n",
    "    # Plot the idealized image\n",
    "    ax = plt.subplot( gs[i,0], )\n",
    "    ip.plot_idealized_projection(\n",
    "        ax,\n",
    "        cmap = plt.get_cmap( 'Greys_r' ),\n",
    "        log_color_scale = True,\n",
    "        vmin = np.log10( 5e5 ),\n",
    "        vmax = np.log10( 1.5e8 ),\n",
    "    )\n",
    "    \n",
    "    # Fiducial\n",
    "    ax = plt.subplot( gs[i,1], )\n",
    "        \n",
    "    # TPCFs\n",
    "    tpcf = all_tpcfs[( 'PS', 'W', )][i]\n",
    "    ax.plot(\n",
    "        xs_log,\n",
    "        tpcf,\n",
    "        linewidth = 6,\n",
    "        color = 'k',\n",
    "        label = label_or_not( 'no radial normalization', ax.is_first_col() ),\n",
    "        zorder = -1,\n",
    "    )\n",
    "    \n",
    "# Go back through and fix up axes\n",
    "for i in range( ncols ):\n",
    "    for j in range( nrows ):\n",
    "        \n",
    "        ax = plt.subplot( gs[j,i], )\n",
    "        \n",
    "        # Projection Plot options\n",
    "        if i < 1:\n",
    "            \n",
    "            ax.set_aspect( 'equal' )\n",
    "            ax.tick_params( labelleft=False, labelbottom=False, left=False, bottom=False)\n",
    "            \n",
    "            if ax.is_first_row():\n",
    "                ax.set_xlabel( 'column density', fontsize=22 )\n",
    "                ax.xaxis.set_label_position( 'top' )\n",
    "            \n",
    "        # Statistics options\n",
    "        if i >= 1:\n",
    "            \n",
    "            # Length scales\n",
    "            for key, item in all_length_scales[j].items():\n",
    "                if key == 'annuli':\n",
    "                    continue\n",
    "                    \n",
    "                ax.axvline(\n",
    "                    2.*item,\n",
    "                    linewidth = 1.5,\n",
    "                    color = '.3',\n",
    "                    linestyle = '--',\n",
    "                )\n",
    "                \n",
    "                if ax.is_last_row():\n",
    "                    trans = matplotlib.transforms.blended_transform_factory( ax.transData, ax.transAxes )\n",
    "                    ax.annotate(\n",
    "                        s = '2R({})'.format( key ),\n",
    "                        xy = ( 2.*item, 0 ),\n",
    "                        xytext = ( 0, -10 ),\n",
    "                        xycoords = trans,\n",
    "                        textcoords = 'offset points',\n",
    "                        va = 'top',\n",
    "                        ha = 'center',\n",
    "                        fontsize = 18,\n",
    "                    )\n",
    "            \n",
    "            # Horizontal lines\n",
    "            for y in np.arange( -1., 1., 0.25 ):\n",
    "                if np.isclose( y, np.array([ -1., 0., 1. ]) ).sum() != 0:\n",
    "                    linewidth = 1.5\n",
    "                elif np.isclose( y, np.array([ -0.5, 0.5, ]) ).sum() != 0:\n",
    "                    linewidth = 1.25\n",
    "                else:\n",
    "                    linewidth = 0.5\n",
    "                ax.axhline(\n",
    "                    y,\n",
    "                    color = '0.1',\n",
    "                    linewidth = linewidth,\n",
    "                )\n",
    "            \n",
    "            # Remove tick labels\n",
    "            ax.tick_params( labelleft=False, left=False, labelright=True, right=True, top=True, labelbottom=False, direction='inout' )\n",
    "            if ax.is_first_row():\n",
    "                ax.tick_params( labeltop=True, )\n",
    "            ax.tick_params( which='minor', direction='inout', bottom=True, top=True, )\n",
    "            \n",
    "            # Avosid overlapping labels\n",
    "            ax.get_yticklabels()[0].set_verticalalignment( 'bottom' )\n",
    "            ax.get_yticklabels()[-1].set_verticalalignment( 'top' )\n",
    "            \n",
    "            # Axis tweaks\n",
    "            ax.set_xlim( 0.9, xs_log[-1] )\n",
    "            ax.set_xscale( 'log' )\n",
    "            \n",
    "            # Make sure enough ticks show up\n",
    "            locmaj = matplotlib.ticker.LogLocator( base=10, numticks=12 ) \n",
    "            ax.xaxis.set_major_locator( locmaj )\n",
    "            locmin = matplotlib.ticker.LogLocator( base=10.0, subs=np.arange( 0.1, 1., 0.1), numticks=12 )\n",
    "            ax.xaxis.set_minor_locator( locmin )\n",
    "            ax.xaxis.set_minor_formatter( matplotlib.ticker.NullFormatter() )\n",
    "            \n",
    "            # Format more nicely\n",
    "            replacements = {\n",
    "                1.: '1',\n",
    "                10.: '10',\n",
    "                100.: '100',\n",
    "            }\n",
    "            new_labels = []\n",
    "            for ii, old_label in enumerate( ax.get_xticklabels() ):\n",
    "                label = old_label\n",
    "                for val, s in replacements.items():\n",
    "                    if np.isclose( ax.get_xticks()[ii], val ):\n",
    "                        label = s\n",
    "                        break            \n",
    "                new_labels.append( label )\n",
    "            ax.set_xticklabels( new_labels )\n",
    "\n",
    "            if ax.is_first_row():\n",
    "                ax.set_xlabel( r'$\\delta$ (kpc)', fontsize=22 )\n",
    "                ax.xaxis.set_label_position( 'top' )\n",
    "            ax.set_ylabel( r'$\\Xi$', fontsize=22, rotation=0 )\n",
    "            ax.yaxis.set_label_position( 'right' )\n",
    "            \n",
    "#             # Legend\n",
    "#             if ax.is_first_col():\n",
    "#                 ax.legend(\n",
    "#                     bbox_to_anchor = (0.0, 2.02, 5., 0.5 ),\n",
    "#                     loc = 'lower left',\n",
    "#                     ncol = 4,\n",
    "#                     mode = \"expand\",\n",
    "#                     borderaxespad = 0.,\n",
    "#                     prop = {'size': 16},\n",
    "#                 )\n",
    "\n",
    "# lgd = fig.legend(\n",
    "# #     bbox_to_anchor = (0.1, 0.87, 0.7, 1.0 ),\n",
    "#     loc = 'lower left',\n",
    "#     ncol = 4,\n",
    "#     mode = \"expand\",\n",
    "#     borderaxespad = 0.,\n",
    "#     prop = {'size': 16},\n",
    "# )\n",
    "\n",
    "fig.savefig('./weighted_correlations.pdf', bbox_inches='tight')"
   ]
  },
  {
   "cell_type": "markdown",
   "metadata": {},
   "source": [
    "### Same Axis TPCF"
   ]
  },
  {
   "cell_type": "code",
   "execution_count": null,
   "metadata": {},
   "outputs": [],
   "source": [
    "fig = plt.figure( figsize=(12,8), facecolor='w' )\n",
    "ax = plt.gca()\n",
    "\n",
    "for i, tpcf in enumerate( all_tpcfs[('PS', 'W')] ):\n",
    "    \n",
    "    # TPCFs\n",
    "    ax.plot(\n",
    "        xs_log,\n",
    "        tpcf,\n",
    "        linewidth = 6,\n",
    "        color = 'k',\n",
    "        label = i,\n",
    "        zorder = -1,\n",
    "    )\n",
    "    \n",
    "# Axis tweaks\n",
    "ax.set_xlim( 0.9, xs_log[-1] )\n",
    "ax.set_xscale( 'log' )\n",
    "ax.set_ylim( -0.5, 1. )"
   ]
  },
  {
   "cell_type": "code",
   "execution_count": null,
   "metadata": {},
   "outputs": [],
   "source": []
  }
 ],
 "metadata": {
  "kernelspec": {
   "display_name": "Python 3",
   "language": "python",
   "name": "python3"
  },
  "language_info": {
   "codemirror_mode": {
    "name": "ipython",
    "version": 3
   },
   "file_extension": ".py",
   "mimetype": "text/x-python",
   "name": "python",
   "nbconvert_exporter": "python",
   "pygments_lexer": "ipython3",
   "version": "3.8.3"
  }
 },
 "nbformat": 4,
 "nbformat_minor": 4
}
