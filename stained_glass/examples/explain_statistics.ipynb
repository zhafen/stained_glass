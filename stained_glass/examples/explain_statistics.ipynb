{
 "cells": [
  {
   "cell_type": "code",
   "execution_count": 1,
   "metadata": {},
   "outputs": [],
   "source": [
    "import numpy as np"
   ]
  },
  {
   "cell_type": "code",
   "execution_count": 2,
   "metadata": {},
   "outputs": [],
   "source": [
    "import matplotlib.gridspec as gridspec\n",
    "\n",
    "import palettable"
   ]
  },
  {
   "cell_type": "code",
   "execution_count": 3,
   "metadata": {},
   "outputs": [],
   "source": [
    "import stained_glass.idealized as idealized\n",
    "import stained_glass.stats as stats"
   ]
  },
  {
   "cell_type": "markdown",
   "metadata": {},
   "source": [
    "## Make Explanatory Plot"
   ]
  },
  {
   "cell_type": "markdown",
   "metadata": {},
   "source": [
    "## Parameters"
   ]
  },
  {
   "cell_type": "code",
   "execution_count": 4,
   "metadata": {},
   "outputs": [],
   "source": [
    "# Number of sightlines\n",
    "n = 10000\n",
    "r_clump = 0.2\n",
    "edges_log = np.logspace( -2., np.log10( 20. ), 16 )\n",
    "edges = np.linspace( 0., 20., 16 )"
   ]
  },
  {
   "cell_type": "code",
   "execution_count": 5,
   "metadata": {},
   "outputs": [],
   "source": [
    "# Choose statistics\n",
    "statistics = {\n",
    "    'TPCF LS': {\n",
    "        'fn': stats.two_point_autocf,\n",
    "        'fnkwargs': { 'estimator': 'ls' },\n",
    "    },\n",
    "    'TPCF simple': {\n",
    "        'fn': stats.two_point_autocf,\n",
    "        'fnkwargs': { 'estimator': 'simple' },\n",
    "    },\n",
    "    'TPCF LS-radial': {\n",
    "        'fn': stats.two_point_autocf,\n",
    "        'fnkwargs': { 'estimator': 'ls' },\n",
    "        'radial': True,\n",
    "    },\n",
    "    'TPCF simple-radial': {\n",
    "        'fn': stats.two_point_autocf,\n",
    "        'fnkwargs': { 'estimator': 'simple' },\n",
    "        'radial': True,\n",
    "    },\n",
    "}"
   ]
  },
  {
   "cell_type": "markdown",
   "metadata": {},
   "source": [
    "#### Setup idealized projections"
   ]
  },
  {
   "cell_type": "code",
   "execution_count": 6,
   "metadata": {},
   "outputs": [],
   "source": [
    "ips = []"
   ]
  },
  {
   "cell_type": "code",
   "execution_count": 7,
   "metadata": {},
   "outputs": [],
   "source": [
    "# Radial distribution\n",
    "ip = idealized.IdealizedProjection()\n",
    "ip.add_ellipse(\n",
    "    c = (0., 0.),\n",
    "    a = 5.,\n",
    ")\n",
    "ips.append( ip )"
   ]
  },
  {
   "cell_type": "code",
   "execution_count": 8,
   "metadata": {},
   "outputs": [],
   "source": [
    "# Radial distribution and satellite\n",
    "ip = idealized.IdealizedProjection()\n",
    "ip.add_ellipse(\n",
    "    c = (0., 0.),\n",
    "    a = 5.,\n",
    ")\n",
    "ip.add_ellipse(\n",
    "    c = (6., 6.),\n",
    "    a = 2.,\n",
    ")\n",
    "ips.append( ip )"
   ]
  },
  {
   "cell_type": "code",
   "execution_count": 9,
   "metadata": {},
   "outputs": [],
   "source": [
    "# Clumps\n",
    "ip = idealized.IdealizedProjection()\n",
    "ip.add_clumps(\n",
    "    r_clump = r_clump,\n",
    "    c = (0., 0.),\n",
    "    r_area = 5.,\n",
    "    fcov = 0.5,\n",
    ")\n",
    "ips.append( ip )"
   ]
  },
  {
   "cell_type": "code",
   "execution_count": 10,
   "metadata": {},
   "outputs": [],
   "source": [
    "# Filament\n",
    "ip = idealized.IdealizedProjection()\n",
    "ip.add_curve(\n",
    "    v1 = (0., 0.),\n",
    "    v2 = (-10., 2.),\n",
    "    theta_a = 20.,\n",
    "    theta_b = 60.,\n",
    ")\n",
    "ips.append( ip )"
   ]
  },
  {
   "cell_type": "code",
   "execution_count": 11,
   "metadata": {},
   "outputs": [],
   "source": [
    "# All of the above\n",
    "ip = idealized.IdealizedProjection()\n",
    "ip.add_ellipse(\n",
    "    c = (0., 0.),\n",
    "    a = 3.,\n",
    ")\n",
    "ip.add_ellipse(\n",
    "    c = (6., 6.),\n",
    "    a = 2.,\n",
    ")\n",
    "ip.add_clumps(\n",
    "    r_clump = r_clump,\n",
    "    c = (0., 0.),\n",
    "    r_area = 5.,\n",
    "    fcov = 0.5,\n",
    ")\n",
    "ip.add_curve(\n",
    "    v1 = (0., 0.),\n",
    "    v2 = (-10., 2.),\n",
    "    theta_a = 20.,\n",
    "    theta_b = 60.,\n",
    ")\n",
    "ips.append( ip )"
   ]
  },
  {
   "cell_type": "markdown",
   "metadata": {},
   "source": [
    "## Plot of Different Ways of Calculating the Same Statistic"
   ]
  },
  {
   "cell_type": "code",
   "execution_count": 12,
   "metadata": {},
   "outputs": [],
   "source": [
    "pair_tpcfs = [\n",
    "    ip.evaluate_pair_sampled_tpcf(\n",
    "        edges,\n",
    "        0.5,\n",
    "        1.5,\n",
    "        estimator = 'simple',\n",
    "        pair_fraction_uncertainty = 0.05,\n",
    "        extra_sightlines_mult = 2.,\n",
    "    )\n",
    "    for ip in ips\n",
    "]"
   ]
  },
  {
   "cell_type": "code",
   "execution_count": 13,
   "metadata": {},
   "outputs": [],
   "source": [
    "ncols = len( ips )\n",
    "nrows = 2"
   ]
  },
  {
   "cell_type": "code",
   "execution_count": 14,
   "metadata": {},
   "outputs": [
    {
     "ename": "NameError",
     "evalue": "name 'tpcfs' is not defined",
     "output_type": "error",
     "traceback": [
      "\u001b[0;31m---------------------------------------------------------------------------\u001b[0m",
      "\u001b[0;31mNameError\u001b[0m                                 Traceback (most recent call last)",
      "\u001b[0;32m<ipython-input-14-de4615773732>\u001b[0m in \u001b[0;36m<module>\u001b[0;34m()\u001b[0m\n\u001b[1;32m     47\u001b[0m     ax.plot(\n\u001b[1;32m     48\u001b[0m         \u001b[0mxs\u001b[0m\u001b[0;34m,\u001b[0m\u001b[0;34m\u001b[0m\u001b[0;34m\u001b[0m\u001b[0m\n\u001b[0;32m---> 49\u001b[0;31m         \u001b[0;36m1.\u001b[0m \u001b[0;34m+\u001b[0m \u001b[0mtpcfs\u001b[0m\u001b[0;34m[\u001b[0m\u001b[0mi\u001b[0m\u001b[0;34m]\u001b[0m\u001b[0;34m,\u001b[0m\u001b[0;34m\u001b[0m\u001b[0;34m\u001b[0m\u001b[0m\n\u001b[0m\u001b[1;32m     50\u001b[0m         \u001b[0mlinewidth\u001b[0m \u001b[0;34m=\u001b[0m \u001b[0;36m3\u001b[0m\u001b[0;34m,\u001b[0m\u001b[0;34m\u001b[0m\u001b[0;34m\u001b[0m\u001b[0m\n\u001b[1;32m     51\u001b[0m         \u001b[0mcolor\u001b[0m \u001b[0;34m=\u001b[0m \u001b[0mpalettable\u001b[0m\u001b[0;34m.\u001b[0m\u001b[0mcartocolors\u001b[0m\u001b[0;34m.\u001b[0m\u001b[0mqualitative\u001b[0m\u001b[0;34m.\u001b[0m\u001b[0mSafe_2\u001b[0m\u001b[0;34m.\u001b[0m\u001b[0mmpl_colors\u001b[0m\u001b[0;34m[\u001b[0m\u001b[0;36m1\u001b[0m\u001b[0;34m]\u001b[0m\u001b[0;34m,\u001b[0m\u001b[0;34m\u001b[0m\u001b[0;34m\u001b[0m\u001b[0m\n",
      "\u001b[0;31mNameError\u001b[0m: name 'tpcfs' is not defined"
     ]
    },
    {
     "data": {
      "image/png": "[encoded data removed]",
      "text/plain": [
       "<Figure size 1080x432 with 2 Axes>"
      ]
     },
     "metadata": {},
     "output_type": "display_data"
    }
   ],
   "source": [
    "fig = plt.figure( figsize=(3*ncols, 3*nrows), facecolor='w' )\n",
    "ax = plt.gca()\n",
    "\n",
    "gs = gridspec.GridSpec( nrows, ncols )\n",
    "gs.update( wspace=0.0001, hspace=0.0001 )\n",
    "\n",
    "for i, ip in enumerate( ips ):\n",
    "    \n",
    "    ip.add_background( 0 )\n",
    "    \n",
    "    # Generate sightlines\n",
    "    ip.generate_sightlines( n )\n",
    "    \n",
    "    # Plot the idealized image\n",
    "    ax = plt.subplot( gs[0,i], )\n",
    "    ip.plot_idealized_projection(\n",
    "        ax,\n",
    "    )\n",
    "    \n",
    "    # Statistics plot\n",
    "    ax = plt.subplot( gs[1,i], )\n",
    "    \n",
    "    # Get sightlines for statistics\n",
    "    coords = np.array([ ip.sl_xs, ip.sl_ys ]).transpose()\n",
    "    vs = ip.evaluate_sightlines()\n",
    "    is_detected = np.isclose( vs, 1 )\n",
    "    coords_det = coords[is_detected]\n",
    "            \n",
    "    # Calculate statistic\n",
    "    tpcf, edges = stats.two_point_autocf(\n",
    "        coords_det,\n",
    "        bins = edges,\n",
    "        maxes = np.array([ ip.x_max, ip.y_max ]),\n",
    "        mins = np.array([ ip.x_min, ip.y_min ]),\n",
    "        estimator = 'simple',\n",
    "    )\n",
    "    \n",
    "    # Plot result\n",
    "    xs = edges[:-1] + 0.5 * ( edges[1] - edges[0] )\n",
    "    ax.plot(\n",
    "        xs,\n",
    "        1. + tpcf,\n",
    "        linewidth = 3,\n",
    "        color = palettable.cartocolors.qualitative.Safe_2.mpl_colors[0],\n",
    "        label = 'point-sampled'\n",
    "    )\n",
    "    ax.plot(\n",
    "        xs,\n",
    "        1. + tpcfs[i],\n",
    "        linewidth = 3,\n",
    "        color = palettable.cartocolors.qualitative.Safe_2.mpl_colors[1],\n",
    "        label = 'pair-sampled'\n",
    "    )\n",
    "\n",
    "    ax.axhline(\n",
    "        1.,\n",
    "        linewidth = 1.,\n",
    "        color = 'k',\n",
    "        linestyle = '--',\n",
    "    )\n",
    "\n",
    "    if i == 2:\n",
    "        ax.axvline(\n",
    "            r_clump,\n",
    "            linewidth = 1.,\n",
    "            color = '.3',\n",
    "            linestyle = '--',\n",
    "        )\n",
    "        \n",
    "# Go back through and fix up axes\n",
    "for i in range( ncols ):\n",
    "    for j in range( nrows ):\n",
    "        \n",
    "        ax = plt.subplot( gs[j,i], )\n",
    "        \n",
    "        # Projection Plot options\n",
    "        if j < 1:\n",
    "            \n",
    "            ax.set_aspect( 'equal' )\n",
    "            ax.tick_params( labelleft=False, labelbottom=False, left=False, bottom=False)\n",
    "            \n",
    "        # Statistics options\n",
    "        if j >= 1:\n",
    "            \n",
    "            # Remove tick labels\n",
    "            if not ax.is_first_col():\n",
    "                ax.tick_params( labelleft=False, left=False, )\n",
    "            if not ax.is_last_row():\n",
    "                ax.tick_params( labelbottom=False, bottom=False )\n",
    "            \n",
    "            # Limits for statistics\n",
    "            ax.set_xlim( edges[0], edges[-1]*0.9 )\n",
    "            ax.set_ylim( 0.05, 200 )\n",
    "            \n",
    "#             ax.set_xscale( 'log' )\n",
    "            ax.set_yscale( 'log' )\n",
    "            \n",
    "            ax.set_xlabel( r'$\\Delta x$', fontsize=22 )\n",
    "            if ax.is_first_col():\n",
    "                ax.set_ylabel( r'1 + $\\xi(\\Delta x)$', fontsize=22 )\n",
    "                \n",
    "            if ax.is_first_col():\n",
    "                ax.legend( prop={'size': 14})"
   ]
  },
  {
   "cell_type": "markdown",
   "metadata": {},
   "source": [
    "# Plot of Different Statistics"
   ]
  },
  {
   "cell_type": "code",
   "execution_count": null,
   "metadata": {},
   "outputs": [],
   "source": [
    "nrows = len( statistics ) + 2"
   ]
  },
  {
   "cell_type": "code",
   "execution_count": null,
   "metadata": {},
   "outputs": [],
   "source": [
    "ncols = len( ips )"
   ]
  },
  {
   "cell_type": "code",
   "execution_count": null,
   "metadata": {},
   "outputs": [],
   "source": [
    "fig = plt.figure( figsize=(3*ncols, 3*nrows), facecolor='w' )\n",
    "ax = plt.gca()\n",
    "\n",
    "gs = gridspec.GridSpec( nrows, ncols )\n",
    "gs.update( wspace=0.0001, hspace=0.0001 )\n",
    "\n",
    "for i, ip in enumerate( ips ):\n",
    "    \n",
    "    ip.add_background( 0 )\n",
    "    \n",
    "    # Generate sightlines\n",
    "    ip.generate_sightlines( n )\n",
    "    \n",
    "    # Plot the idealized image\n",
    "    ax = plt.subplot( gs[0,i], )\n",
    "    ip.plot_idealized_projection(\n",
    "        ax,\n",
    "    )\n",
    "    \n",
    "    # Plot the sightlines\n",
    "    ax = plt.subplot( gs[1,i], )\n",
    "    ip.plot_sightlines(\n",
    "        ax,\n",
    "        s = int( 10000 / n),\n",
    "    )\n",
    "    \n",
    "    # Get sightlines for statistics\n",
    "    coords = np.array([ ip.sl_xs, ip.sl_ys ]).transpose()\n",
    "    vs = ip.evaluate_sightlines()\n",
    "    is_detected = np.isclose( vs, 1 )\n",
    "    coords_det = coords[is_detected]\n",
    "    \n",
    "    # Calculate the statistics\n",
    "    for j, ( key, item ) in enumerate( statistics.items() ):\n",
    "        \n",
    "        ax = plt.subplot( gs[2+j,i], )\n",
    "        \n",
    "        # Calculate statistic\n",
    "        stat, edges = item['fn'](\n",
    "            coords_det,\n",
    "            bins = edges,\n",
    "            maxes = np.array([ ip.x_max, ip.y_max ]),\n",
    "            mins = np.array([ ip.x_min, ip.y_min ]),\n",
    "            **item['fnkwargs']\n",
    "        )\n",
    "        \n",
    "        # A version that attempts to cancel out radial trends\n",
    "        # by dividing the correlation function for the same data spread randomly at the\n",
    "        # same radius\n",
    "        if 'radial' in list( item.keys() ):\n",
    "            rs = np.linalg.norm( coords_det, axis=1 )\n",
    "            \n",
    "            r_hist, r_edges = np.histogram(\n",
    "                rs,\n",
    "                bins = np.linspace( 0., np.sqrt(2.) * 10., 32 ),\n",
    "            )\n",
    "            r_randoms = []\n",
    "            for m, n_annulus in enumerate( r_hist ):\n",
    "                r_randoms.append(\n",
    "                    stats.generate_randoms_in_annulus(\n",
    "                        n_annulus,\n",
    "                        r_edges[m],\n",
    "                        r_edges[m+1],\n",
    "                    )\n",
    "                )\n",
    "            r_randoms = np.concatenate( r_randoms )\n",
    "            r_stat, edges = item['fn'](\n",
    "                r_randoms,\n",
    "                bins = edges,\n",
    "                maxes = np.array([ ip.x_max, ip.y_max ]),\n",
    "                mins = np.array([ ip.x_min, ip.y_min ]),\n",
    "                **item['fnkwargs']\n",
    "            )\n",
    "            \n",
    "            stat = stat / r_stat - 1.\n",
    "        \n",
    "        # Plot result\n",
    "        xs = edges[:-1] + 0.5 * ( edges[1] - edges[0] )\n",
    "        ax.plot(\n",
    "            xs,\n",
    "            1. + stat,\n",
    "            linewidth = 3,\n",
    "            color = 'k',\n",
    "        )\n",
    "        \n",
    "        ax.axhline(\n",
    "            1.,\n",
    "            linewidth = 1.,\n",
    "            color = 'k',\n",
    "            linestyle = '--',\n",
    "        )\n",
    "        \n",
    "        if i == 2:\n",
    "            ax.axvline(\n",
    "                r_clump,\n",
    "                linewidth = 1.,\n",
    "                color = '.3',\n",
    "                linestyle = '--',\n",
    "            )\n",
    "        \n",
    "# Go back through and fix up axes\n",
    "for i in range( ncols ):\n",
    "    for j in range( nrows ):\n",
    "        \n",
    "        ax = plt.subplot( gs[j,i], )\n",
    "        \n",
    "        # Projection Plot options\n",
    "        if j < 2:\n",
    "            \n",
    "            ax.set_aspect( 'equal' )\n",
    "            ax.tick_params( labelleft=False, labelbottom=False, left=False, bottom=False)\n",
    "            \n",
    "        # Statistics options\n",
    "        if j > 1:\n",
    "            \n",
    "            # Remove tick labels\n",
    "            if not ax.is_first_col():\n",
    "                ax.tick_params( labelleft=False, left=False, )\n",
    "            if not ax.is_last_row():\n",
    "                ax.tick_params( labelbottom=False, bottom=False )\n",
    "            \n",
    "            # Limits for statistics\n",
    "            ax.set_xlim( edges[0], edges[-1] )\n",
    "            ax.set_ylim( 0.05, 200 )\n",
    "            \n",
    "            ax.set_xscale( 'log' )\n",
    "            ax.set_yscale( 'log' )\n",
    "            \n",
    "            if ax.is_first_col():\n",
    "                ax.set_ylabel( list( statistics.keys() )[j-2], fontsize=22 )"
   ]
  },
  {
   "cell_type": "code",
   "execution_count": null,
   "metadata": {},
   "outputs": [],
   "source": [
    "import unyt"
   ]
  },
  {
   "cell_type": "code",
   "execution_count": null,
   "metadata": {},
   "outputs": [],
   "source": [
    "dx = ( 600 * unyt.kpc ) / 1024"
   ]
  },
  {
   "cell_type": "code",
   "execution_count": null,
   "metadata": {},
   "outputs": [],
   "source": [
    "dx"
   ]
  },
  {
   "cell_type": "code",
   "execution_count": null,
   "metadata": {},
   "outputs": [],
   "source": [
    "l = ( ( 7000 * unyt.msun ) / ( 1e-1 * unyt.mp * unyt.cm**-3) )**(1./3.)"
   ]
  },
  {
   "cell_type": "code",
   "execution_count": null,
   "metadata": {},
   "outputs": [],
   "source": [
    "l.to( 'kpc' )"
   ]
  }
 ],
 "metadata": {
  "kernelspec": {
   "display_name": "Python 3",
   "language": "python",
   "name": "python3"
  },
  "language_info": {
   "codemirror_mode": {
    "name": "ipython",
    "version": 3
   },
   "file_extension": ".py",
   "mimetype": "text/x-python",
   "name": "python",
   "nbconvert_exporter": "python",
   "pygments_lexer": "ipython3",
   "version": "3.6.7"
  }
 },
 "nbformat": 4,
 "nbformat_minor": 4
}
